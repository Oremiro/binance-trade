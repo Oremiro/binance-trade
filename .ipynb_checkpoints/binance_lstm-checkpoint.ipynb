{
 "cells": [
  {
   "cell_type": "code",
   "execution_count": 1,
   "id": "31e9ff99",
   "metadata": {},
   "outputs": [
    {
     "ename": "ModuleNotFoundError",
     "evalue": "No module named 'sklearn'",
     "output_type": "error",
     "traceback": [
      "\u001b[0;31m---------------------------------------------------------------------------\u001b[0m",
      "\u001b[0;31mModuleNotFoundError\u001b[0m                       Traceback (most recent call last)",
      "Cell \u001b[0;32mIn [1], line 6\u001b[0m\n\u001b[1;32m      4\u001b[0m \u001b[38;5;28;01mimport\u001b[39;00m \u001b[38;5;21;01mnumpy\u001b[39;00m \u001b[38;5;28;01mas\u001b[39;00m \u001b[38;5;21;01mnp\u001b[39;00m\n\u001b[1;32m      5\u001b[0m \u001b[38;5;28;01mimport\u001b[39;00m \u001b[38;5;21;01mpandas\u001b[39;00m \u001b[38;5;28;01mas\u001b[39;00m \u001b[38;5;21;01mpd\u001b[39;00m\n\u001b[0;32m----> 6\u001b[0m \u001b[38;5;28;01mfrom\u001b[39;00m \u001b[38;5;21;01msklearn\u001b[39;00m\u001b[38;5;21;01m.\u001b[39;00m\u001b[38;5;21;01mmetrics\u001b[39;00m \u001b[38;5;28;01mimport\u001b[39;00m mean_absolute_error\n",
      "\u001b[0;31mModuleNotFoundError\u001b[0m: No module named 'sklearn'"
     ]
    }
   ],
   "source": [
    "from tensorflow.keras.models import Sequential\n",
    "from tensorflow.keras.layers import Activation, Dense, Dropout, LSTM\n",
    "import matplotlib.pyplot as plt\n",
    "import numpy as np\n",
    "import pandas as pd\n",
    "from sklearn.metrics import mean_absolute_error\n"
   ]
  },
  {
   "cell_type": "code",
   "execution_count": 2,
   "id": "2cdd743e",
   "metadata": {},
   "outputs": [
    {
     "name": "stdout",
     "output_type": "stream",
     "text": [
      "\n",
      "Please wait a moment while I gather a list of all available modules...\n",
      "\n"
     ]
    },
    {
     "name": "stderr",
     "output_type": "stream",
     "text": [
      "/Library/Developer/CommandLineTools/Library/Frameworks/Python3.framework/Versions/3.8/lib/python3.8/pkgutil.py:92: UserWarning: The numpy.array_api submodule is still experimental. See NEP 47.\n",
      "  __import__(info.name)\n",
      "/Users/bondarev/Library/Python/3.8/lib/python/site-packages/torch/distributed/_shard/checkpoint/__init__.py:8: DeprecationWarning: torch.distributed._shard.checkpoint will be deprecated, use torch.distributed.checkpoint instead\n",
      "  warnings.warn(\n",
      "/Users/bondarev/Library/Python/3.8/lib/python/site-packages/torch/distributed/_sharded_tensor/__init__.py:8: DeprecationWarning: torch.distributed._sharded_tensor will be deprecated, use torch.distributed._shard.sharded_tensor instead\n",
      "  warnings.warn(\n",
      "/Users/bondarev/Library/Python/3.8/lib/python/site-packages/torch/distributed/_sharding_spec/__init__.py:8: DeprecationWarning: torch.distributed._sharding_spec will be deprecated, use torch.distributed._shard.sharding_spec instead\n",
      "  warnings.warn(\n",
      "NOTE: Redirects are currently not supported in Windows or MacOs.\n",
      "/Library/Developer/CommandLineTools/Library/Frameworks/Python3.framework/Versions/3.8/lib/python3.8/site-packages/setuptools/distutils_patch.py:25: UserWarning: Distutils was imported before Setuptools. This usage is discouraged and may exhibit undesirable behaviors or errors. Please use Setuptools' objects directly or at least import Setuptools first.\n",
      "  warnings.warn(\n"
     ]
    },
    {
     "name": "stdout",
     "output_type": "stream",
     "text": [
      "IPython             attrs               jax                 requests\n",
      "PIL                 audioop             jedi                requests_oauthlib\n",
      "__future__          babel               jinja2              resource\n",
      "_abc                backcall            json                rlcompleter\n",
      "_argon2_cffi_bindings base64              json5               rsa\n",
      "_ast                bdb                 jsonschema          runpy\n",
      "_asyncio            binascii            jupyter             sched\n",
      "_bisect             binhex              jupyter_client      scipy\n",
      "_blake2             bisect              jupyter_core        secrets\n",
      "_bootlocale         bleach              jupyter_server      select\n",
      "_bz2                bs4                 jupyterlab          selectors\n",
      "_cffi_backend       builtins            jupyterlab_pygments send2trash\n",
      "_codecs             bz2                 jupyterlab_server   setuptools\n",
      "_codecs_cn          cProfile            keras               shelve\n",
      "_codecs_hk          cachetools          keyword             shlex\n",
      "_codecs_iso2022     calendar            kiwisolver          shutil\n",
      "_codecs_jp          certifi             lib2to3             signal\n",
      "_codecs_kr          cffi                linecache           site\n",
      "_codecs_tw          cgi                 locale              six\n",
      "_collections        cgitb               logging             smtpd\n",
      "_collections_abc    charset_normalizer  lzma                smtplib\n",
      "_compat_pickle      chunk               mailbox             sndhdr\n",
      "_compression        clang               mailcap             sniffio\n",
      "_contextvars        client              markdown            socket\n",
      "_crypt              cmath               markupsafe          socketserver\n",
      "_csv                cmd                 marshal             soupsieve\n",
      "_ctypes             code                math                sqlite3\n",
      "_ctypes_test        codecs              matplotlib          sre_compile\n",
      "_curses             codeop              matplotlib_inline   sre_constants\n",
      "_curses_panel       collections         mimetypes           sre_parse\n",
      "_datetime           colorsys            mistune             ssl\n",
      "_dbm                compileall          ml_dtypes           stack_data\n",
      "_decimal            concurrent          mmap                stat\n",
      "_dummy_thread       configparser        model               statistics\n",
      "_elementtree        contextlib          modulefinder        string\n",
      "_functools          contextvars         mpmath              stringprep\n",
      "_hashlib            contourpy           multiprocessing     struct\n",
      "_heapq              copy                nbclassic           subprocess\n",
      "_imp                copyreg             nbclient            sunau\n",
      "_io                 crypt               nbconvert           symbol\n",
      "_json               csv                 nbformat            sympy\n",
      "_locale             ctypes              nest_asyncio        symtable\n",
      "_lsprof             curses              netrc               sys\n",
      "_lzma               cycler              networkx            sysconfig\n",
      "_markupbase         dataclasses         nis                 syslog\n",
      "_md5                datetime            nntplib             tabnanny\n",
      "_multibytecodec     dateutil            notebook            tarfile\n",
      "_multiprocessing    dbm                 notebook_shim       telnetlib\n",
      "_opcode             debugpy             ntpath              tempfile\n",
      "_operator           decimal             nturl2path          tensorboard\n",
      "_osx_support        decorator           numbers             tensorboard_data_server\n",
      "_pickle             defusedxml          numpy               tensorflow\n",
      "_posixshmem         difflib             oauthlib            tensorflow_estimator\n",
      "_posixsubprocess    dis                 opcode              termcolor\n",
      "_py_abc             distutils           operator            terminado\n",
      "_pydecimal          doctest             opt_einsum          termios\n",
      "_pyio               dummy_threading     optparse            textwrap\n",
      "_pyrsistent_version easy_install        os                  this\n",
      "_queue              email               packaging           threading\n",
      "_random             encodings           pandas              time\n",
      "_remote_module_non_scriptable ensurepip           pandocfilters       timeit\n",
      "_scproxy            entrypoints         parser              tinycss2\n",
      "_sha1               enum                parso               tkinter\n",
      "_sha256             errno               pasta               token\n",
      "_sha3               executing           pathlib             tokenize\n",
      "_sha512             fastjsonschema      pdb                 tomli\n",
      "_signal             faulthandler        pexpect             torch\n",
      "_sitebuiltins       fcntl               pickle              torchgen\n",
      "_socket             filecmp             pickleshare         tornado\n",
      "_sqlite3            fileinput           pickletools         trace\n",
      "_sre                filelock            pip                 traceback\n",
      "_ssl                flatbuffers         pipes               tracemalloc\n",
      "_stat               fnmatch             pkg_resources       traitlets\n",
      "_statistics         fontTools           pkgutil             tty\n",
      "_string             formatter           pkgutil_resolve_name turtle\n",
      "_strptime           fractions           platform            turtledemo\n",
      "_struct             ftplib              plistlib            types\n",
      "_symtable           functools           poplib              typing\n",
      "_sysconfigdata__darwin_darwin functorch           posix               typing_extensions\n",
      "_testbuffer         gast                posixpath           unicodedata\n",
      "_testcapi           gc                  pprint              unittest\n",
      "_testimportmultiple genericpath         preprocessing       urllib\n",
      "_testinternalcapi   getopt              profile             urllib3\n",
      "_testmultiphase     getpass             prometheus_client   uu\n",
      "_thread             gettext             prompt_toolkit      uuid\n",
      "_threading_local    glob                pstats              venv\n",
      "_tkinter            google_auth_oauthlib psutil              warnings\n",
      "_tracemalloc        grp                 pty                 wave\n",
      "_uuid               grpc                ptyprocess          wcwidth\n",
      "_warnings           gzip                pure_eval           weakref\n",
      "_weakref            h5py                pvectorc            webbrowser\n",
      "_weakrefset         hashlib             pwd                 webencodings\n",
      "_xxsubinterpreters  heapq               py_compile          websocket\n",
      "_xxtestfuzz         hmac                pyasn1              werkzeug\n",
      "abc                 html                pyasn1_modules      wheel\n",
      "absl                http                pyclbr              wrapt\n",
      "aifc                idna                pycparser           wsgiref\n",
      "antigravity         imaplib             pydoc               xdrlib\n",
      "anyio               imghdr              pydoc_data          xml\n",
      "appnope             imp                 pyexpat             xmlrpc\n",
      "argon2              importlib           pygments            xxlimited\n",
      "argparse            importlib_metadata  pylab               xxsubtype\n",
      "array               importlib_resources pyparsing           zipapp\n",
      "ast                 inspect             pyrsistent          zipfile\n",
      "asttokens           io                  pytz                zipimport\n",
      "astunparse          ipaddress           queue               zipp\n",
      "asynchat            ipykernel           quopri              zlib\n",
      "asyncio             ipykernel_launcher  random              zmq\n",
      "asyncore            ipython_genutils    re                  \n",
      "atexit              isympy              readline            \n",
      "attr                itertools           reprlib             \n",
      "\n",
      "Enter any module name to get more help.  Or, type \"modules spam\" to search\n",
      "for modules whose name or summary contain the string \"spam\".\n",
      "\n"
     ]
    },
    {
     "name": "stderr",
     "output_type": "stream",
     "text": [
      "/Library/Developer/CommandLineTools/Library/Frameworks/Python3.framework/Versions/3.8/lib/python3.8/pkgutil.py:107: VisibleDeprecationWarning: zmq.eventloop.minitornado is deprecated in pyzmq 14.0 and will be removed.\n",
      "    Install tornado itself to use zmq with the tornado IOLoop.\n",
      "    \n",
      "  yield from walk_packages(path, info.name+'.', onerror)\n"
     ]
    }
   ],
   "source": []
  },
  {
   "cell_type": "code",
   "execution_count": null,
   "id": "5964cb6f",
   "metadata": {},
   "outputs": [],
   "source": []
  }
 ],
 "metadata": {
  "kernelspec": {
   "display_name": "binancevenv",
   "language": "python",
   "name": "binancevenv"
  },
  "language_info": {
   "codemirror_mode": {
    "name": "ipython",
    "version": 3
   },
   "file_extension": ".py",
   "mimetype": "text/x-python",
   "name": "python",
   "nbconvert_exporter": "python",
   "pygments_lexer": "ipython3",
   "version": "3.8.9"
  }
 },
 "nbformat": 4,
 "nbformat_minor": 5
}
